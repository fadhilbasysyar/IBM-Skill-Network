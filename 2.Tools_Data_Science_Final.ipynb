{
 "cells": [
  {
   "cell_type": "markdown",
   "id": "bf6a2133-612a-49f0-be9f-c9f6117dc125",
   "metadata": {},
   "source": [
    "# My Jupyter Notebook on IBM Watson Studio"
   ]
  },
  {
   "cell_type": "markdown",
   "id": "5b949001-fd85-473f-9280-7d87780a6d24",
   "metadata": {},
   "source": [
    "**Fadhil Muhammad Basysyar**\n",
    "\n",
    "Lecturer and Data Scientist"
   ]
  },
  {
   "cell_type": "markdown",
   "id": "a78e6889-3313-49ff-a60f-c2bc1b48294a",
   "metadata": {},
   "source": [
    "*I am interested in Data Science because I would love to contribute towards affordable and quality in education*"
   ]
  },
  {
   "cell_type": "markdown",
   "id": "1d2576de-c20d-4986-a44e-6d10b4ac6901",
   "metadata": {},
   "source": [
    "### The below print 1+1"
   ]
  },
  {
   "cell_type": "code",
   "execution_count": 2,
   "id": "dae18960-bf4b-42db-b756-8d3c0187fef4",
   "metadata": {},
   "outputs": [
    {
     "name": "stdout",
     "output_type": "stream",
     "text": [
      "2\n"
     ]
    }
   ],
   "source": [
    "print(1+1)"
   ]
  },
  {
   "cell_type": "markdown",
   "id": "5d334074-995c-4d7f-9943-ddd6deaee2c8",
   "metadata": {},
   "source": [
    "| Name          | Occupation    |\n",
    "| ------------- |:-------------:|\n",
    "|Fadhil         | Lecturer      |"
   ]
  },
  {
   "cell_type": "markdown",
   "id": "e3998324-e354-45f9-b1de-00800a09be88",
   "metadata": {},
   "source": [
    "* Lecturer\n",
    "* Data Scientist"
   ]
  },
  {
   "cell_type": "markdown",
   "id": "dea600c6-3e8a-46db-bfd6-06ae2886426f",
   "metadata": {},
   "source": [
    "visit my page at [linkedin](www.linkedin.com/in/fadhilmbasysyar)"
   ]
  },
  {
   "cell_type": "code",
   "execution_count": null,
   "id": "ecb969cc-bad7-4adb-9ede-6aa8dd405915",
   "metadata": {},
   "outputs": [],
   "source": []
  }
 ],
 "metadata": {
  "kernelspec": {
   "display_name": "Python",
   "language": "python",
   "name": "conda-env-python-py"
  },
  "language_info": {
   "codemirror_mode": {
    "name": "ipython",
    "version": 3
   },
   "file_extension": ".py",
   "mimetype": "text/x-python",
   "name": "python",
   "nbconvert_exporter": "python",
   "pygments_lexer": "ipython3",
   "version": "3.7.12"
  }
 },
 "nbformat": 4,
 "nbformat_minor": 5
}
